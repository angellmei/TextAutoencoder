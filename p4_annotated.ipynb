{
  "nbformat": 4,
  "nbformat_minor": 0,
  "metadata": {
    "colab": {
      "name": "p4 - annotated.ipynb",
      "provenance": [],
      "collapsed_sections": []
    },
    "kernelspec": {
      "name": "python3",
      "display_name": "Python 3"
    }
  },
  "cells": [
    {
      "cell_type": "markdown",
      "metadata": {
        "id": "JA72WDkXAPmT"
      },
      "source": [
        "# CSC321 Project 4.\n",
        "\n",
        "**Deadline**: Thursday, April. 2, by 9pm\n",
        "\n",
        "**Submission**: \n",
        "If you are using Google Colab or Jupyter Notebook,\n",
        "the easiest way to submit the assignment is to submit a PDF export of the completed notebook. \n",
        "If you are using Python, please submit a PDF file containing your code, written solutions,\n",
        "and any outputs that we are using to evaluate your work.\n",
        "\n",
        "**Late Submission**: Please see the syllabus for the late submission criteria.\n",
        "\n",
        "This time, we're back to the application of deep learning to natural language processing.\n",
        "We will be working with a subset of Reuters news headlines that are collected over 15 months,\n",
        "covering all of 2019, plus a few months in 2018 and in a few months of this year.\n",
        "\n",
        "In particular, we will be building an **autoencoder** of news headlines. The idea is similar\n",
        "to the kind of image autoencoder we built in lecture: we will have an **encoder** that\n",
        "maps a news headline to a vector embedding, and then a **decoder** that reconstructs\n",
        "the news headline. Both our encoder and decoder networks will be Recurrent Neural Networks,\n",
        "so that you have a chance to practice building\n",
        "\n",
        "- a neural network that takes a sequence as an input\n",
        "- a neural network that generates a sequence as an output\n",
        "\n",
        "This project is organized as follows:\n",
        "\n",
        "- Question 1. Exploring the data\n",
        "- Question 2. Building the autoencoder\n",
        "- Question 3. Training the autoencoder using *data augmentation*\n",
        "- Question 4. Analyzing the embeddings (interpolating between headlines)\n",
        "\n",
        "Furthermore, we'll be introducing the idea of **data augmentation** for improving of\n",
        "the robustness of the autoencoder, as proposed by Shen et al [1].\n",
        "\n",
        "[1] Shen et al (2019) \"Educating Text Autoencoders: Latent Representation Guidance via Denoising\" https://arxiv.org/pdf/1905.12777.pdf"
      ]
    },
    {
      "cell_type": "code",
      "metadata": {
        "id": "1CibTdYZAPmY"
      },
      "source": [
        "import torch\n",
        "import torch.nn as nn\n",
        "import torch.nn.functional as F\n",
        "import torch.optim as optim\n",
        "\n",
        "import matplotlib.pyplot as plt\n",
        "import numpy as np\n",
        "import random\n",
        "\n",
        "%matplotlib inline"
      ],
      "execution_count": null,
      "outputs": []
    },
    {
      "cell_type": "markdown",
      "metadata": {
        "id": "QWqcJ9dAAPme"
      },
      "source": [
        "## Question 1\n",
        "\n",
        "Download the files `reuters_train.txt` and `reuters_valid.txt`, and upload them to Google Drive.\n",
        "\n",
        "Then, mount Google Drive from your Google Colab notebook:"
      ]
    },
    {
      "cell_type": "code",
      "metadata": {
        "id": "qR7RhKVaAPmf",
        "outputId": "3fcd2f24-bb56-47e6-9327-b5955931f9e5",
        "colab": {
          "base_uri": "https://localhost:8080/",
          "height": 34
        }
      },
      "source": [
        "from google.colab import drive\n",
        "drive.mount('/content/gdrive')\n",
        "\n",
        "train_path = '/content/gdrive/My Drive/CSC321/reuters_train.txt' # Update me\n",
        "valid_path = '/content/gdrive/My Drive/CSC321/reuters_valid.txt' # Update me"
      ],
      "execution_count": null,
      "outputs": [
        {
          "output_type": "stream",
          "text": [
            "Drive already mounted at /content/gdrive; to attempt to forcibly remount, call drive.mount(\"/content/gdrive\", force_remount=True).\n"
          ],
          "name": "stdout"
        }
      ]
    },
    {
      "cell_type": "markdown",
      "metadata": {
        "id": "v9AT1pN6APmi"
      },
      "source": [
        "As promised in previous lecture, we will be using PyTorch's `torchtext` utilities to help us load, process,\n",
        "and batch the data. We'll be using a `TabularDataset` to load our data, which works well on structured\n",
        "CSV data with fixed columns (e.g. a column for the sequence, a column for the label). Our tabular dataset\n",
        "is even simpler: we have no labels, just some text. So, we are treating our data as a table with one field\n",
        "representing our sequence."
      ]
    },
    {
      "cell_type": "code",
      "metadata": {
        "id": "JeENitQUAPmj"
      },
      "source": [
        "import torchtext\n",
        "\n",
        "# Tokenization function to separate a headline into words\n",
        "def tokenize_headline(headline):\n",
        "    \"\"\"Returns the sequence of words in the string headline. We also\n",
        "    prepend the \"<bos>\" or beginning-of-string token, and append the\n",
        "    \"<eos>\" or end-of-string token to the headline.\n",
        "    \"\"\"\n",
        "    return (\"<bos> \" + headline + \" <eos>\").split()\n",
        "\n",
        "# Data field (column) representing our *text*.\n",
        "text_field = torchtext.data.Field(\n",
        "    sequential=True,            # this field consists of a sequence\n",
        "    tokenize=tokenize_headline, # how to split sequences into words\n",
        "    include_lengths=True,       # to track the length of sequences, for batching\n",
        "    batch_first=True,           # similar to batch_first=True in nn.RNN demonstrated in lecture\n",
        "    use_vocab=True)             # to turn each character into an integer index\n",
        "train_data = torchtext.data.TabularDataset(\n",
        "    path=train_path,                # data file path\n",
        "    format=\"tsv\",                   # fields are separated by a tab\n",
        "    fields=[('title', text_field)]) # list of fields (we have only one)"
      ],
      "execution_count": null,
      "outputs": []
    },
    {
      "cell_type": "markdown",
      "metadata": {
        "id": "6TZQIn2MAPmp"
      },
      "source": [
        "### Part (a) -- 2 points\n",
        "\n",
        "Draw histograms of the number of words per headline in our training set.\n",
        "Excluding the `<bos>` and `<eos>` tags in your computation.\n",
        "Explain why we would be interested in such histograms."
      ]
    },
    {
      "cell_type": "code",
      "metadata": {
        "id": "WI4Ck7QYAPmq",
        "outputId": "a1a7fa17-e3e7-458e-de50-2cbe80d89290",
        "colab": {
          "base_uri": "https://localhost:8080/",
          "height": 282
        }
      },
      "source": [
        "# Include your histogram and your written explanations\n",
        "\n",
        "# Here is an example of how to plot a histogram in matplotlib:\n",
        "# plt.hist(np.random.normal(0, 1, 40), bins=20)\n",
        "\n",
        "# Here are some sample code that uses the train_data object:\n",
        "print(train_data[5].title)\n",
        "lengths = np.empty((len(train_data,)))\n",
        "for i in range(len(train_data)):\n",
        "  lengths[i] = len(train_data[i].title)\n",
        "\n",
        "n, bins, patches = plt.hist(lengths, 50, density=True, facecolor='g', alpha=0.75)\n",
        "plt.show()\n",
        "\n",
        "#Shows the distribution of the data, letting us understand the mean and spread.\n"
      ],
      "execution_count": null,
      "outputs": [
        {
          "output_type": "stream",
          "text": [
            "['<bos>', 'u.s.', 'navy', 'pursuing', 'block', 'buy', 'of', 'two', 'aircraft', 'carriers', '-', 'senator', '<eos>']\n"
          ],
          "name": "stdout"
        },
        {
          "output_type": "display_data",
          "data": {
            "image/png": "[encoded data removed]",
            "text/plain": [
              "<Figure size 432x288 with 1 Axes>"
            ]
          },
          "metadata": {
            "tags": []
          }
        }
      ]
    },
    {
      "cell_type": "markdown",
      "metadata": {
        "id": "lJa2Ak-2APmu"
      },
      "source": [
        "### Part (b) -- 2 points\n",
        "\n",
        "How many distinct words appear in the training data?\n",
        "Exclude the `<bos>` and `<eos>` tags in your computation."
      ]
    },
    {
      "cell_type": "code",
      "metadata": {
        "id": "FdHEn0A6APmu",
        "outputId": "a2136d64-95e5-464e-f3a7-89b052da72b1",
        "colab": {
          "base_uri": "https://localhost:8080/",
          "height": 34
        }
      },
      "source": [
        "# Report your values here. Make sure that you report the actual values,\n",
        "# and not just the code used to get those values\n",
        "\n",
        "# You might find the python class Counter from the collections package useful\n",
        "\n",
        "words = {}\n",
        "for title in train_data:\n",
        "  for word in title.title:\n",
        "    if word in ['<bos>', '<eos>']: continue\n",
        "    words[word] = words.get(word, 0) + 1\n",
        "\n",
        "print('Distinct words:', len(distinctWords))"
      ],
      "execution_count": null,
      "outputs": [
        {
          "output_type": "stream",
          "text": [
            "distinct words: 51298\n"
          ],
          "name": "stdout"
        }
      ]
    },
    {
      "cell_type": "markdown",
      "metadata": {
        "id": "9PYBq7MVAPmy"
      },
      "source": [
        "### Part (c) -- 2 points\n",
        "\n",
        "The distribution of *words* will have a long tail, meaning that there are some words\n",
        "that will appear very often, and many words that will appear infrequently. How many words\n",
        "appear exactly once in the training set? Exactly twice?"
      ]
    },
    {
      "cell_type": "code",
      "metadata": {
        "id": "S37PfiQUAPmy",
        "outputId": "303bed4e-ca4c-4486-d09b-cd3eb8b71265",
        "colab": {
          "base_uri": "https://localhost:8080/",
          "height": 52
        }
      },
      "source": [
        "# Report your values here. Make sure that you report the actual values,\n",
        "# and not just the code used to get those values\n",
        "\n",
        "for i in [1,2]:\n",
        "  print(f'Appears {i} time/s: {len([x for x in words.values() if x==i])}')"
      ],
      "execution_count": null,
      "outputs": [
        {
          "output_type": "stream",
          "text": [
            "Appears 1 time/s: 19854\n",
            "Appears 2 time/s: 7193\n"
          ],
          "name": "stdout"
        }
      ]
    },
    {
      "cell_type": "markdown",
      "metadata": {
        "id": "CHSRkcTaAPm6"
      },
      "source": [
        "### Part (d) -- 2 points\n",
        "\n",
        "Explain why we may wish to replace these infrequent\n",
        "words with an `<unk>` tag, instead of learning embeddings for these rare words.\n",
        "(Hint: Consider words in the validation set that might not appear in training)"
      ]
    },
    {
      "cell_type": "code",
      "metadata": {
        "id": "tT6kxNtMAPm9"
      },
      "source": [
        "# Include your explanation here\n",
        "\n",
        "'''\n",
        "A large portion of the words are only used once or twice, we can\n",
        "cut down on the embedding dimensionality by simply omitting infrequent words.\n",
        "\n",
        "Also, they do not contribute much to the model because they are so infrequently\n",
        "encountered. \n",
        "'''"
      ],
      "execution_count": null,
      "outputs": []
    },
    {
      "cell_type": "markdown",
      "metadata": {
        "id": "Wpx0K7LJAPnA"
      },
      "source": [
        "### Part (e) -- 2 points\n",
        "\n",
        "We will only model the top 9995 words in the training set, excluding the tags\n",
        "`<bos>`, `<eos>`, and other possible tags we haven't mentioned yet\n",
        "(including those, we will have a vocabulary size of exactly 10000 tokens).\n",
        "\n",
        "What percentage of word occurrences will be supported? Alternatively, what percentage\n",
        "of word occurrences in the training set will be set to the `<unk>` tag?"
      ]
    },
    {
      "cell_type": "code",
      "metadata": {
        "id": "aJHRYGoAAPnB",
        "outputId": "1575a344-3d68-4091-8766-32566392cb83",
        "colab": {
          "base_uri": "https://localhost:8080/",
          "height": 52
        }
      },
      "source": [
        "# Report your values here. Make sure that you report the actual values,\n",
        "# and not just the code used to get those values\n",
        "\n",
        "\n",
        "print(f'Percent of total words used: {(10000/len(words))*100 : .2f}%')\n",
        "\n",
        "print(f'Percent of <unk> words: {(len([v for v in words.values() if v<3])/len(words))*100 : .2f}%')"
      ],
      "execution_count": null,
      "outputs": [
        {
          "output_type": "stream",
          "text": [
            "Percent of total words used:  19.49%\n",
            "Percent of <unk> words:  52.73%\n"
          ],
          "name": "stdout"
        }
      ]
    },
    {
      "cell_type": "markdown",
      "metadata": {
        "id": "HBzCAlwfAPnE"
      },
      "source": [
        "Our `torchtext` package will help us keep track of our list of unique words, known\n",
        "as a **vocabulary**. A vocabulary also assigns a unique integer index to each word.\n",
        "You can interpret these indices as sparse representations of one-hot vectors."
      ]
    },
    {
      "cell_type": "code",
      "metadata": {
        "id": "ZYrPBXvXAPnF",
        "outputId": "4e92bbcd-e9d0-4e6d-9eda-886ec563d6ae",
        "colab": {
          "base_uri": "https://localhost:8080/",
          "height": 104
        }
      },
      "source": [
        "# Build the vocabulary based on the training data. The vocabulary\n",
        "# can have at most 9997 words (9995 words + the <bos> and <eos> token)\n",
        "text_field.build_vocab(train_data, max_size=9997)\n",
        "\n",
        "# This vocabulary object will be helpful for us\n",
        "vocab = text_field.vocab\n",
        "print(vocab.stoi[\"hello\"]) # for instances, we can convert from string to (unique) index\n",
        "print(vocab.itos[10])      # ... and from word index to string\n",
        "\n",
        "# The size of our vocabulary is actually 10000\n",
        "vocab_size = len(text_field.vocab.stoi)\n",
        "print(vocab_size) # should be 10000\n",
        "\n",
        "# The reason is that torchtext adds two more tokens for us:\n",
        "print(vocab.itos[0]) # <unk> represents an unknown word not in our vocabulary\n",
        "print(vocab.itos[1]) # <pad> will be used to pad short sequences for batching"
      ],
      "execution_count": null,
      "outputs": [
        {
          "output_type": "stream",
          "text": [
            "0\n",
            "on\n",
            "10000\n",
            "<unk>\n",
            "<pad>\n"
          ],
          "name": "stdout"
        }
      ]
    },
    {
      "cell_type": "markdown",
      "metadata": {
        "id": "EwnOaZONAPnK"
      },
      "source": [
        "## Question 2\n",
        "\n",
        "Building a text autoencoder is a little more complicated than an image autoencoder, so\n",
        "we'll need to thoroughly understand the model that we want to build before actually building\n",
        "our model. Note that the best and fastest way to complete this assignment is to spend a *lot*\n",
        "of time upfront understanding the architecture. The explanations are quite dense, and you\n",
        "might need to stop every sentence or two to understand what's going on.\n",
        "You won't feel productive for a while since you won't be writing code,\n",
        "but this initial investment will help you become more productive later on.\n",
        "Understanding this architecture will also help you understand other machine learning\n",
        "papers you might come across. So, take a deep breath, and let's do this!\n",
        "\n",
        "Here is a diagram showing our desired architecture:\n",
        "\n",
        "<img src=\"https://www.cs.toronto.edu/~lczhang/321/hw/p4model.png\" width=\"95%\" />\n",
        "\n",
        "There are two main components to the model: the **encoder** and the **decoder**.\n",
        "As always with neural networks, we'll first describe how to make\n",
        "**predictions** with of these components. Let's get started:\n",
        "\n",
        "The **encoder** will take a sequence of words (a headline) as *input*, and produce an\n",
        "embedding (a vector) that represents the entire headline. In the diagram above,\n",
        "the vector ${\\bf h}^{(7)}$ is the vector embedding containing information about \n",
        "the entire headline.  This portion is very similar\n",
        "to the sentiment analysis RNN that we discussed in lecture (but without the fully-connected\n",
        "layer that makes a prediction).\n",
        "\n",
        "The **decoder** will take an embedding (in the diagram, the vector ${\\bf h}^{(7)}$) as input,\n",
        "and uses a separate RNN to **generate a sequence of words**. To generate a sequence of words,\n",
        "the decoder needs to do the following:\n",
        "\n",
        "1) Determine the previous word that was generated. This previous word will act as ${\\bf x}^{(t)}$\n",
        "   to our RNN, and will be used to update the hidden state ${\\bf m}^{(t)}$. Since each of our\n",
        "   sequences begin with the `<bos>` token, we'll set ${\\bf x}^{(1)}$ to be the `<bos>` token.\n",
        "2) Compute the updates to the hidden state ${\\bf m}^{(t)}$ based on the previous hidden state\n",
        "   ${\\bf m}^{(t-1)}$ and ${\\bf x}^{(t)}$. Intuitively, this hidden state vector ${\\bf m}^{(t)}$\n",
        "   is a representation of *all the words we still need to generate*.\n",
        "3) We'll use a fully-connected layer to take a hidden state ${\\bf m}^{(t)}$, and determine\n",
        "   *what the next word should be*. This fully-connected layer solves a *classification problem*,\n",
        "   since we are trying to choose a word out of $K=10000$ distinct words. As in a classification\n",
        "   problem, the fully-connected neural network will compute a *probability distribution* over\n",
        "   these 10,000 words. In the diagram, we are using ${\\bf z}^{(t)}$ to represent the logits,\n",
        "   or the pre-softmax activation values representing the probability distribution.\n",
        "4) We will need to *sample* an actual word from this probability distribution ${\\bf z}^{(t)}$.\n",
        "   We can do this in a number of ways, which we'll discuss in question 3. For now, you can \n",
        "   imagine your favourite way of picking a word given a distribution over words.\n",
        "5) This word we choose will become the next input ${\\bf x}^{(t+1)}$ to our RNN, which is used\n",
        "   to update our hidden state ${\\bf m}^{(t+1)}$---i.e. to determine what are the remaining\n",
        "   words to be generated.\n",
        "\n",
        "We can repeat this process until we see an `<eos>` token generated, or until the generated\n",
        "sequence becomes too long.\n",
        "\n",
        "Unfortunately, we can't *train* this autoencoder in the way we just described. That is,\n",
        "we can't just compare our generated sequence with our ground-truth sequence, and get\n",
        "gradients. Both sequences are **discrete** entities, so we won't be able to compute\n",
        "gradients at all! In particular, **sampling is a discrete process**, and so we won't be\n",
        "able to back-propagate through any kind of sampling that we do.\n",
        "\n",
        "You might wonder whether we can get away with computing gradients by comparing the\n",
        "distributions ${\\bf z}^{(t)}$ with the ground truth words at each time step. Like any\n",
        "multi-class classification problem, we can represent the ground-truth words as a one-hot\n",
        "vector, and use the cross-entropy loss.\n",
        "\n",
        "In theory, we can do this. In practice, there are a few issues. One is that the generated\n",
        "sequence might be longer or shorter than the actual sequence, meaning that there may\n",
        "be more/fewer ${\\bf z}^{(t)}$s than ground-truth words. Another more insidious issue\n",
        "is that the **gradients will become very high-variance and unstable**, because\n",
        "**early mistakes will easily throw the model off-track**. Early in training,\n",
        "our model is unlikely to produce the right answer in step $t=1$, so the gradients\n",
        "we obtain based on the other time steps will not be very useful.\n",
        "\n",
        "At this point, you might have some ideas about \"hacks\" we can use to make training\n",
        "work. Fortunately, there is one very well-established solution called\n",
        "**teacher forcing** which we can use for training:\n",
        "instead of *sampling* the next word based on ${\\bf z}^{(t)}$, we will forgo sampling,\n",
        "and use the **ground truth** ${\\bf x}^{(t)}$ in the next step.\n",
        "\n",
        "Here is a diagram showing how we can use **teacher forcing** to train our model:\n",
        "\n",
        "<img src=\"https://www.cs.toronto.edu/~lczhang/321/hw/p4model_tf.png\" width=\"95%\" />\n",
        "\n",
        "We will use the RNN generator to compute the logits\n",
        "${\\bf z}^{(1)},{\\bf z}^{(2)},  \\cdots {\\bf z}^{(T)}$. These distributions\n",
        "can be compared to the ground-truth words using the cross-entropy loss.\n",
        "The loss function for this model will be the sum of the losses across each $t$.\n",
        "(This is similar to what we did in a pixel-wise prediction problem.)\n",
        "\n",
        "We'll train the encoder and decoder model simultaneously. There are several components\n",
        "to our model that contain tunable weights:\n",
        "\n",
        "- The word embedding that maps a word to a vector representation.\n",
        "  In theory, we could use GloVe embeddings, or initialize our parameters to\n",
        "  GloVe embeddings. To prevent students who don't have Colab access\n",
        "  from having to download a 1GB file, we won't do that.\n",
        "  The word embedding component is represented with blue arrows in the diagram.\n",
        "- The encoder RNN (which will use Gated Recurrent Units) that computes the\n",
        "  embedding over the entire headline. The encoder RNN \n",
        "  is represented with black arrows in the diagram.\n",
        "- The decoder RNN (which will also use Gated Recurrent Units) that computes\n",
        "  hidden states, which are vectors representing what words are to be generated.\n",
        "  The decoder RNN is represented with gray arrows in the diagram.\n",
        "- The **projection MLP** (a fully-connected layer) that computes\n",
        "  a distribution over the next word to generate, given a decoder RNN hidden\n",
        "  state.\n",
        "\n",
        "## Part (a) -- 10 pts\n",
        "\n",
        "Complete the code for the AutoEncoder class below by:\n",
        "\n",
        "1. Filling in the missing numbers in the `__init__` method using\n",
        "   the parameters `vocab_size`, `emb_size`, and `hidden_size`. (4 points)\n",
        "2. Complete the `forward` method, which uses teacher forcing\n",
        "   and computes the logits $z^{(t)}$ of the reconstruction of\n",
        "   the sequence. (4 points)\n",
        "\n",
        "You should first try to understand the `encode` and `decode` methods,\n",
        "which are written for you. The `encode` method mimics the discriminative\n",
        "RNN we wrote in class for sentiment analysis.  The `decode` method is\n",
        "a bit more challenging. You might want to scroll down to the\n",
        "`sample_sequence` function to see how this function will be called.\n",
        "\n",
        "You can (but don't have to) use the `encode` and `decode` method in\n",
        "your `forward` method. In either case, be very careful of the input\n",
        "that you feed into ether `decode` or to `self.decoder_rnn`.\n",
        "Refer to the teacher-forcing diagram."
      ]
    },
    {
      "cell_type": "code",
      "metadata": {
        "id": "V83LihNFAPnM"
      },
      "source": [
        "class AutoEncoder(nn.Module):\n",
        "    def __init__(self, vocab_size, emb_size, hidden_size):\n",
        "        \"\"\"\n",
        "        A text autoencoder. The parameters \n",
        "            - vocab_size: number of unique words/tokens in the vocabulary\n",
        "            - emb_size: size of the word embeddings $x^{(t)}$\n",
        "            - hidden_size: size of the hidden states in both the\n",
        "                           encoder RNN ($h^{(t)}$) and the\n",
        "                           decoder RNN ($m^{(t)}$)\n",
        "        \"\"\"\n",
        "        super().__init__()\n",
        "        self.embed = nn.Embedding(num_embeddings=vocab_size, \n",
        "                                  embedding_dim=emb_size) \n",
        "        self.encoder_rnn = nn.GRU(input_size=emb_size,\n",
        "                                  hidden_size=hidden_size, \n",
        "                                  batch_first=True)\n",
        "        self.decoder_rnn = nn.GRU(input_size=emb_size,\n",
        "                                  hidden_size=hidden_size,\n",
        "                                  batch_first=True)\n",
        "        self.proj = nn.Linear(in_features=hidden_size,\n",
        "                              out_features=vocab_size)\n",
        "\n",
        "    def encode(self, inp):\n",
        "        \"\"\"\n",
        "        Computes the encoder output given a sequence of words.\n",
        "        \"\"\"\n",
        "        emb = self.embed(inp)\n",
        "        out, last_hidden = self.encoder_rnn(emb)\n",
        "        return last_hidden\n",
        "\n",
        "    def decode(self, inp, hidden=None):\n",
        "        \"\"\"\n",
        "        Computes the decoder output given a sequence of words, and\n",
        "        (optionally) an initial hidden state.\n",
        "        \"\"\"\n",
        "        emb = self.embed(inp)\n",
        "        out, last_hidden = self.decoder_rnn(emb, hidden)\n",
        "        out_seq = self.proj(out)\n",
        "        return out_seq, last_hidden\n",
        "\n",
        "    def forward(self, inp):\n",
        "        \"\"\"\n",
        "        Compute both the encoder and decoder forward pass\n",
        "        given an integer input sequence inp with shape [batch_size, seq_length],\n",
        "        with inp[a,b] representing the (index in our vocabulary of) the b-th word\n",
        "        of the a-th training example.\n",
        "\n",
        "        This function should return the logits $z^{(t)}$ in a tensor of shape\n",
        "        [batch_size, seq_length - 1, vocab_size], computed using *teaching forcing*.\n",
        "\n",
        "        The (seq_length - 1) part is not a typo. If you don't understand why\n",
        "        we need to subtract 1, refer to the teacher-forcing diagram above.\n",
        "        \"\"\"\n",
        "        \n",
        "        encoderHidden = self.encode(inp)\n",
        "        return self.decode(inp[:,:-1], encoderHidden)\n"
      ],
      "execution_count": null,
      "outputs": []
    },
    {
      "cell_type": "markdown",
      "metadata": {
        "id": "mQda2jDyAPnS"
      },
      "source": [
        "### Part (b) -- 5 pts\n",
        "\n",
        "To check that your model is set up correctly, we'll train our AutoEncoder\n",
        "neural network for at least 300 iterations to memorize this sequence:"
      ]
    },
    {
      "cell_type": "code",
      "metadata": {
        "id": "Xp1enZ-YAPnT",
        "outputId": "51617754-4c6f-4624-88e0-cba3ddc2ab1d",
        "colab": {
          "base_uri": "https://localhost:8080/",
          "height": 52
        }
      },
      "source": [
        "\n",
        "headline = train_data[42].title\n",
        "print(headline)\n",
        "input_seq = torch.Tensor([vocab.stoi[w] for w in headline]).long().unsqueeze(0)\n",
        "input_seq.shape"
      ],
      "execution_count": null,
      "outputs": [
        {
          "output_type": "stream",
          "text": [
            "['<bos>', 'zambian', 'president', 'swears', 'in', 'new', 'army', 'chief', '<eos>']\n"
          ],
          "name": "stdout"
        },
        {
          "output_type": "execute_result",
          "data": {
            "text/plain": [
              "torch.Size([1, 9])"
            ]
          },
          "metadata": {
            "tags": []
          },
          "execution_count": 103
        }
      ]
    },
    {
      "cell_type": "markdown",
      "metadata": {
        "id": "7v9-ur6nAPnX"
      },
      "source": [
        "We are looking for the way that you set up your loss function\n",
        "corresponding to the figure above.\n",
        "**Be very careful of off-by-ones.**\n",
        "\n",
        "\n",
        "Note that the Cross Entropy Loss expects a rank-2 tensor as its first\n",
        "argument, and a rank-1 tensor as its second argument. You will\n",
        "need to properly reshape your data to be able to compute the loss."
      ]
    },
    {
      "cell_type": "code",
      "metadata": {
        "id": "sVX6pFEiAPnY",
        "outputId": "9ea7e0fb-f868-45de-8580-77fa0c77e3cf",
        "colab": {
          "base_uri": "https://localhost:8080/",
          "height": 121
        }
      },
      "source": [
        "model = AutoEncoder(vocab_size, 128, 128)\n",
        "optimizer = optim.Adam(model.parameters(), lr=0.001)\n",
        "criterion = nn.CrossEntropyLoss()\n",
        "\n",
        "for it in range(300):\n",
        "    \n",
        "    out, hidden = model(input_seq)\n",
        "    target = input_seq[:,1:]\n",
        "\n",
        "    loss = criterion(out.reshape(-1, vocab_size), # reshape to 2D tensor\n",
        "      target.reshape(-1))  \n",
        "    loss.backward()\n",
        "    optimizer.step()\n",
        "    optimizer.zero_grad()\n",
        "\n",
        "    if (it+1) % 50 == 0:\n",
        "        print(\"[Iter %d] Loss %f\" % (it+1, float(loss)))"
      ],
      "execution_count": null,
      "outputs": [
        {
          "output_type": "stream",
          "text": [
            "[Iter 50] Loss 0.124557\n",
            "[Iter 100] Loss 0.032865\n",
            "[Iter 150] Loss 0.019844\n",
            "[Iter 200] Loss 0.013548\n",
            "[Iter 250] Loss 0.009876\n",
            "[Iter 300] Loss 0.007560\n"
          ],
          "name": "stdout"
        }
      ]
    },
    {
      "cell_type": "markdown",
      "metadata": {
        "id": "4ROYvN-wAPnb"
      },
      "source": [
        "### Part (c) -- 2 pt\n",
        "\n",
        "Once you are satisfied with your model, encode your input using\n",
        "the RNN encoder, and sample some sequences from the decoder. The \n",
        "sampling code is provided to you, and performs the computation\n",
        "from the first diagram (without teacher forcing).\n",
        "\n",
        "Note that we are sampling from a multi-nomial distribution described\n",
        "by the logits $z^{(t)}$. For example, if our distribution is [80%, 20%]\n",
        "over a vocabulary of two words, then we will choose the first word\n",
        "with 80% probability and the second word with 20% probability.\n",
        "\n",
        "Call `sample_sequence` at least 5 times, with the default temperature\n",
        "value. Make sure to include the generated sequences in your PDF\n",
        "report."
      ]
    },
    {
      "cell_type": "code",
      "metadata": {
        "id": "hbNeKhtGAPnc",
        "outputId": "51d9d28d-0524-45bf-f4db-dea7cb04cc3f",
        "colab": {
          "base_uri": "https://localhost:8080/",
          "height": 104
        }
      },
      "source": [
        "def sample_sequence(model, hidden, max_len=20, temperature=1):\n",
        "    \"\"\"\n",
        "    Return a sequence generated from the model's decoder\n",
        "        - model: an instance of the AutoEncoder model\n",
        "        - hidden: a hidden state (e.g. computed by the encoder)\n",
        "        - max_len: the maximum length of the generated sequence\n",
        "        - temperature: described in Part (d)\n",
        "    \"\"\"\n",
        "    # We'll store our generated sequence here\n",
        "    generated_sequence = []\n",
        "    # Set input to the <BOS> token\n",
        "    inp = torch.Tensor([text_field.vocab.stoi[\"<bos>\"]]).long()\n",
        "    for p in range(max_len):\n",
        "        # compute the output and next hidden unit\n",
        "        output, hidden = model.decode(inp.unsqueeze(0), hidden)\n",
        "        # Sample from the network as a multinomial distribution\n",
        "        output_dist = output.data.view(-1).div(temperature).exp()\n",
        "        top_i = int(torch.multinomial(output_dist, 1)[0])\n",
        "        # Add predicted word to string and use as next input\n",
        "        word = text_field.vocab.itos[top_i]\n",
        "        # Break early if we reach <eos>\n",
        "        if word == \"<eos>\":\n",
        "            break\n",
        "        generated_sequence.append(word)\n",
        "        inp = torch.Tensor([top_i]).long()\n",
        "    return generated_sequence\n",
        "\n",
        "# Your solutions go here\n",
        "\n",
        "for _ in range(5):\n",
        "  i = int(np.random.random() * len(train_data))\n",
        "  headline = train_data[i].title\n",
        "  input_seq = torch.Tensor([vocab.stoi[w] for w in headline]).long().unsqueeze(0)\n",
        "\n",
        "  out, last_hidden = model.encoder_rnn(model.embed(input_seq))\n",
        "  print(' '.join(sample_sequence(model, last_hidden)))\n",
        "\n"
      ],
      "execution_count": null,
      "outputs": [
        {
          "output_type": "stream",
          "text": [
            "zambian president swears in new army chief\n",
            "zambian president swears in new army figure chief\n",
            "zambian president swears in new army chief\n",
            "zambian president swears in new army chief\n",
            "zambian president swears in new army chief\n"
          ],
          "name": "stdout"
        }
      ]
    },
    {
      "cell_type": "markdown",
      "metadata": {
        "id": "sTZhPlBdAPnf"
      },
      "source": [
        "### Part (d) -- 3 pt\n",
        "\n",
        "The multi-nomial distribution can be manipulated using the `temperature`\n",
        "setting. This setting can be used to make the distribution \"flatter\" (e.g.\n",
        "more likely to generate different words) or \"peakier\" (e.g. less likely\n",
        "to generate different words).\n",
        "\n",
        "Call `sample_sequence` at least 5 times each for at least 3 different\n",
        "temperature settings (e.g. 1.5, 2, and 5). Explain why we generally\n",
        "don't want the temperature setting to be too **large**."
      ]
    },
    {
      "cell_type": "code",
      "metadata": {
        "id": "paWRuBUrAPnf",
        "outputId": "d9956581-6de7-4399-a798-8290ab490560",
        "colab": {
          "base_uri": "https://localhost:8080/",
          "height": 124
        }
      },
      "source": [
        "# Include the generated sequences and explanation in your PDF report.\n",
        "\n",
        "i = int(np.random.random() * len(train_data))\n",
        "\n",
        "headline = train_data[i].title\n",
        "input_seq = torch.Tensor([vocab.stoi[w] for w in headline]).long().unsqueeze(0)\n",
        "out, last_hidden = model.encoder_rnn(model.embed(input_seq))\n",
        "\n",
        "print('Original:', headline, '\\n')\n",
        "\n",
        "for temp in [1.5, 2, 5]:\n",
        "  print(f'\\tTemperature {temp}:', ' '.join(sample_sequence(model, last_hidden, temperature=temp)))\n",
        "\n",
        "# too high a temperature creates word sequences that are not closely related\n",
        "# in the embedding space"
      ],
      "execution_count": null,
      "outputs": [
        {
          "output_type": "stream",
          "text": [
            "Original: ['<bos>', 'u.s.', 'diplomats', 'to', 'star', 'in', 'public', 'impeachment', 'hearings', 'next', 'week', '<eos>'] \n",
            "\n",
            "\tTemperature 1.5: zambian president swears in new army collective mission sibanye-stillwater chief\n",
            "\tTemperature 2: notorious advance _num_-german equities beating altria in distributor gulen army strict turbine mediator bought apologizes members hang _num_-thyssenkrupp products _num_-facebook\n",
            "\tTemperature 5: export category alternative _num_-chinese burundi hamper packaging fifth 3,300 u.s.-china sunk sciences brought vaccine mechanism triple-double display danube liga goldcorp\n"
          ],
          "name": "stdout"
        }
      ]
    },
    {
      "cell_type": "markdown",
      "metadata": {
        "id": "p9n39sOzAPnj"
      },
      "source": [
        "## Question 3\n",
        "\n",
        "It turns out that getting good results from a text auto-encoder is very difficult,\n",
        "and that it is very easy for our model to **overfit**. We have discussed several methods\n",
        "that we can use to prevent overfitting, and we'll introduce one more today:\n",
        "**data augmentation**.\n",
        "\n",
        "The idea behind data augmentation is to artificially increase the number of training\n",
        "examples by \"adding noise\" to the image. For example, during AlexNet training,\n",
        "the authors randomly cropped $224\\times 224$\n",
        "regions of a $256 \\times 256$ pixel image to increase the amount of training data.\n",
        "The authors also flipped the image left/right (but not up/down---why?).\n",
        "Machine learning practitioners can also add Gaussian noise to the image.\n",
        "\n",
        "When we use data augmentation to train an *autoencoder*, we typically to only add\n",
        "the noise to the input, and expect the reconstruction to be *noise free*.\n",
        "This makes the task of the autoencoder even more difficult. An autoencoder trained\n",
        "with noisy inputs is called a **denoising auto-encoder**. For simplicity, we will\n",
        "*not* build a denoising autoencoder today.\n",
        "\n",
        "### Part (a) -- 3pt\n",
        "\n",
        "Give three more examples of data augmentation techniques that we could use if\n",
        "we were training an **image** autoencoder. What are different ways that we can\n",
        "change our input?"
      ]
    },
    {
      "cell_type": "code",
      "metadata": {
        "id": "yIZKxrlsAPnk"
      },
      "source": [
        "# Include your three answers\n",
        "\n",
        "'''\n",
        "translation - small shifts in an image\n",
        "rotation - rotate the image\n",
        "zoom - slightly zoom in on the image / crop (maintaining resolution)\n",
        "'''"
      ],
      "execution_count": null,
      "outputs": []
    },
    {
      "cell_type": "markdown",
      "metadata": {
        "id": "SOo0e7XSAPnn"
      },
      "source": [
        "### Part (b) -- 2pt\n",
        "\n",
        "We will add noise to our headlines using a few different techniques:\n",
        "\n",
        "1. Shuffle the words in the headline, taking care that words don't end up too far from where they were initially\n",
        "2. Drop (remove) some words \n",
        "3. Replace some words with a blank word (a `<pad>` token)\n",
        "4. Replace some words with a random word \n",
        "\n",
        "The code for adding these types of noise is provided for you:"
      ]
    },
    {
      "cell_type": "code",
      "metadata": {
        "id": "1NwvfNHwAPno"
      },
      "source": [
        "def tokenize_and_randomize(headline,\n",
        "                           drop_prob=0.1,  # probability of dropping a word\n",
        "                           blank_prob=0.1, # probability of \"blanking\" out a word\n",
        "                           sub_prob=0.1,   # probability of substituting a word with a random one\n",
        "                           shuffle_dist=3): # maximum distance to shuffle a word\n",
        "    \"\"\"\n",
        "    Add 'noise' to a headline by slightly shuffling the word order,\n",
        "    dropping some words, blanking out some words (replacing with the <pad> token)\n",
        "    and substituting some words with random ones.\n",
        "    \"\"\"\n",
        "    headline = [vocab.stoi[w] for w in headline.split()]\n",
        "    n = len(headline)\n",
        "    # shuffle\n",
        "    headline = [headline[i] for i in get_shuffle_index(n, shuffle_dist)]\n",
        "\n",
        "    new_headline = [vocab.stoi['<bos>']]\n",
        "    for w in headline:\n",
        "        if random.random() < drop_prob:\n",
        "            # drop the word\n",
        "            pass\n",
        "        elif random.random() < blank_prob:\n",
        "            # replace with blank word\n",
        "            new_headline.append(vocab.stoi[\"<pad>\"])\n",
        "        elif random.random() < sub_prob:\n",
        "            # substitute word with another word\n",
        "            new_headline.append(random.randint(0, vocab_size - 1))\n",
        "        else:\n",
        "            # keep the original word\n",
        "            new_headline.append(w)\n",
        "    new_headline.append(vocab.stoi['<eos>'])\n",
        "    return new_headline\n",
        "\n",
        "def get_shuffle_index(n, max_shuffle_distance):\n",
        "    \"\"\" This is a helper function used to shuffle a headline with n words,\n",
        "    where each word is moved at most max_shuffle_distance. The function does\n",
        "    the following: \n",
        "       1. start with the *unshuffled* index of each word, which\n",
        "          is just the values [0, 1, 2, ..., n]\n",
        "       2. perturb these \"index\" values by a random floating-point value between\n",
        "          [0, max_shuffle_distance]\n",
        "       3. use the sorted position of these values as our new index\n",
        "    \"\"\"\n",
        "    index = np.arange(n)\n",
        "    perturbed_index = index + np.random.rand(n) * 3\n",
        "    new_index = sorted(enumerate(perturbed_index), key=lambda x: x[1])\n",
        "    return [index for (index, pert) in new_index]"
      ],
      "execution_count": null,
      "outputs": []
    },
    {
      "cell_type": "markdown",
      "metadata": {
        "id": "4yieoDDcAPns"
      },
      "source": [
        "Call the function `tokenize_and_randomize` 5 times on a headline of your\n",
        "choice. Make sure to include both your original headline, and the five new\n",
        "headlines in your report."
      ]
    },
    {
      "cell_type": "code",
      "metadata": {
        "id": "TrnWWhs4APns",
        "outputId": "3f88edf0-d256-43e7-842c-eef22392182f",
        "colab": {
          "base_uri": "https://localhost:8080/",
          "height": 312
        }
      },
      "source": [
        "# Report your values here. Make sure that you report the actual values,\n",
        "# and not just the code used to get those values\n",
        "i = int(np.random.random() * len(train_data))\n",
        "headline = ' '.join(train_data[i].title)\n",
        "#input_seq = torch.Tensor([vocab.stoi[w] for w in headline]).long().unsqueeze(0)\n",
        "\n",
        "print('Original:', headline, '\\n')\n",
        "\n",
        "for i in range(5):\n",
        "  print(f'{i+1}:')\n",
        "  tokenized = tokenize_and_randomize(headline)\n",
        "  print('\\t', tokenized)\n",
        "  untokenized = ' '.join([vocab.itos[x] for x in tokenized])\n",
        "  print('\\t', untokenized)\n"
      ],
      "execution_count": null,
      "outputs": [
        {
          "output_type": "stream",
          "text": [
            "Original: <bos> spain 's pm considers calling early national election for april _num_ - efe <eos> \n",
            "\n",
            "1:\n",
            "\t [2, 2, 439, 7280, 1064, 49, 424, 1, 533, 4104, 4500, 12, 750, 8, 0, 3, 3]\n",
            "\t <bos> <bos> spain assures considers pm early <pad> national stockpiles riots for fx _num_ <unk> <eos> <eos>\n",
            "2:\n",
            "\t [2, 2, 439, 7, 49, 424, 1064, 533, 3710, 12, 631, 8, 0, 7394, 3, 3]\n",
            "\t <bos> <bos> spain 's pm early considers national calling for april _num_ <unk> montana <eos> <eos>\n",
            "3:\n",
            "\t [2, 2, 7, 439, 424, 533, 97, 631, 12, 17, 8, 7971, 1, 3]\n",
            "\t <bos> <bos> 's spain early national election april for - _num_ woos <pad> <eos>\n",
            "4:\n",
            "\t [2, 439, 3551, 49, 3710, 424, 1064, 6839, 97, 12, 631, 8898, 1, 3, 3]\n",
            "\t <bos> spain hole pm calling early considers smaller-than-expected election for april clip <pad> <eos> <eos>\n",
            "5:\n",
            "\t [2, 439, 49, 7, 3710, 3536, 424, 533, 12, 631, 8, 17, 3, 5083, 3]\n",
            "\t <bos> spain pm 's calling co2 early national for april _num_ - <eos> adding <eos>\n"
          ],
          "name": "stdout"
        }
      ]
    },
    {
      "cell_type": "markdown",
      "metadata": {
        "id": "MGFNjyjaAPnv"
      },
      "source": [
        "### Part (c) -- 3 pt\n",
        "\n",
        "The training code that we use to train the model is mostly provided for you. \n",
        "The only part we left blank are the parts from Q2(b). Complete the code,\n",
        "and train a new AutoEncoder model for 1 epoch. You can train your model\n",
        "for longer if you want, but training tend to take a long time,\n",
        "so we're only checking to see that your training loss is trending down.\n",
        "\n",
        "If you are using Google Colab, you can use a GPU for this portion.\n",
        "Go to \"Runtime\" => \"Change Runtime Type\"  and set \"Hardware acceleration\" to GPU.\n",
        "Your Colab session will restart.\n",
        "You can move your model to the GPU by typing `model.cuda()`, and move\n",
        "other tensors to GPU (e.g. `xs = xs.cuda()`). To move a model back to CPU,\n",
        "type `model.cpu`. To move a tensor back, use `xs = xs.cpu()`. For training,\n",
        "your model and inputs need to be on the *same device*."
      ]
    },
    {
      "cell_type": "code",
      "metadata": {
        "id": "NJjlo2RVAPnv",
        "outputId": "3d40597f-07a1-42e4-de8f-f6adffb1bd17",
        "colab": {
          "base_uri": "https://localhost:8080/",
          "height": 716
        }
      },
      "source": [
        "def train_autoencoder(model, batch_size=64, learning_rate=0.001, num_epochs=1, showLoss = False):\n",
        "    optimizer = optim.Adam(model.parameters(), lr=learning_rate)\n",
        "    criterion = nn.CrossEntropyLoss()\n",
        "    train_losses = []\n",
        "\n",
        "    for ep in range(num_epochs):\n",
        "        # We will perform data augmentation by re-reading the input each time\n",
        "        field = torchtext.data.Field(sequential=True,\n",
        "                                     tokenize=tokenize_and_randomize, # <-- data augmentation\n",
        "                                     include_lengths=True,\n",
        "                                     batch_first=True,\n",
        "                                     use_vocab=False, # <-- the tokenization function replaces this\n",
        "                                     pad_token=vocab.stoi['<pad>'])\n",
        "        dataset = torchtext.data.TabularDataset(train_path, \"tsv\", [('title', field)])\n",
        "\n",
        "        # This BucketIterator will handle padding of sequences that are not of the same length\n",
        "        train_iter = torchtext.data.BucketIterator(dataset,\n",
        "                                                   batch_size=batch_size,\n",
        "                                                   sort_key=lambda x: len(x.title), # to minimize padding\n",
        "                                                   repeat=False)\n",
        "\n",
        "        for it, ((xs, lengths), _) in enumerate(train_iter):\n",
        "\n",
        "          out, hidden = model(xs)\n",
        "\n",
        "          targets = xs[:,1:]\n",
        "          loss = criterion(out.reshape(-1, vocab_size), targets.reshape(-1))\n",
        "          loss.backward()\n",
        "          optimizer.step()\n",
        "          train_losses.append(loss)\n",
        "          optimizer.zero_grad()\n",
        "\n",
        "          if (it+1) % 100 == 0:\n",
        "            print(\"[Iter %d] Loss %f\" % (it+1, float(loss)))\n",
        "\n",
        "        if showLoss:\n",
        "          # Optional: Compute and track validation loss\n",
        "          val_loss = 0\n",
        "          val_n = 0\n",
        "          for it, ((xs, lengths), _) in enumerate(valid_iter):\n",
        "              zs = model(xs)\n",
        "              loss = criterion(out.reshape(-1, vocab_size), target.reshape(-1))\n",
        "              val_loss += float(loss)\n",
        "          print(val_loss)\n",
        "\n",
        "    plt.plot(np.arange(len(train_losses)), train_losses)\n",
        "    plt.show()\n",
        "\n",
        "model = AutoEncoder(vocab_size, 128, 128)\n",
        "train_autoencoder(model, num_epochs=1)\n",
        "# Include your training curve or output to show that your training loss is trending down"
      ],
      "execution_count": null,
      "outputs": [
        {
          "output_type": "stream",
          "text": [
            "[Iter 100] Loss 4.487705\n",
            "[Iter 200] Loss 3.989494\n",
            "[Iter 300] Loss 3.566334\n",
            "[Iter 400] Loss 4.379325\n",
            "[Iter 500] Loss 4.496255\n",
            "[Iter 600] Loss 3.498442\n",
            "[Iter 700] Loss 4.439512\n",
            "[Iter 800] Loss 4.373703\n",
            "[Iter 900] Loss 3.917185\n",
            "[Iter 1000] Loss 3.868602\n",
            "[Iter 1100] Loss 3.653858\n",
            "[Iter 1200] Loss 3.459005\n",
            "[Iter 1300] Loss 3.694254\n",
            "[Iter 1400] Loss 3.863665\n",
            "[Iter 1500] Loss 3.686517\n",
            "[Iter 1600] Loss 3.123401\n",
            "[Iter 1700] Loss 3.653082\n",
            "[Iter 1800] Loss 3.782398\n",
            "[Iter 1900] Loss 3.652865\n",
            "[Iter 2000] Loss 3.380814\n",
            "[Iter 2100] Loss 3.785436\n",
            "[Iter 2200] Loss 3.237817\n",
            "[Iter 2300] Loss 3.728154\n",
            "[Iter 2400] Loss 3.293723\n",
            "[Iter 2500] Loss 3.456789\n",
            "[Iter 2600] Loss 3.525051\n"
          ],
          "name": "stdout"
        },
        {
          "output_type": "display_data",
          "data": {
            "image/png": "[encoded data removed]",
            "text/plain": [
              "<Figure size 432x288 with 1 Axes>"
            ]
          },
          "metadata": {
            "tags": []
          }
        }
      ]
    },
    {
      "cell_type": "code",
      "metadata": {
        "id": "fuv2XhzioArd",
        "outputId": "448854f4-7fd0-49e3-ec67-0d773a5bb459",
        "colab": {
          "base_uri": "https://localhost:8080/",
          "height": 34
        }
      },
      "source": [
        "len(train_data)"
      ],
      "execution_count": null,
      "outputs": [
        {
          "output_type": "execute_result",
          "data": {
            "text/plain": [
              "171443"
            ]
          },
          "metadata": {
            "tags": []
          },
          "execution_count": 243
        }
      ]
    },
    {
      "cell_type": "markdown",
      "metadata": {
        "id": "TjX--kBjAPny"
      },
      "source": [
        "### Part (d) -- 2 pt\n",
        "\n",
        "This model requires many epochs (>50) to train, and is quite slow without using a GPU.\n",
        "You can train a model yourself, or you can load the model weights that we have trained,\n",
        "and available on the course website https://www.cs.toronto.edu/~lczhang/321/files/p4model.pk (11MB).\n",
        "\n",
        "Assuming that your `AutoEncoder` is set up correctly, the following code should run without\n",
        "error."
      ]
    },
    {
      "cell_type": "code",
      "metadata": {
        "id": "rWgDs65lAPnz",
        "outputId": "24d03321-b026-4aa0-b339-7b157a803f26",
        "colab": {
          "base_uri": "https://localhost:8080/",
          "height": 34
        }
      },
      "source": [
        "model = AutoEncoder(vocab_size, 128, 128)\n",
        "checkpoint_path = '/content/gdrive/My Drive/CSC321/p4model.pk' # Update me\n",
        "model.load_state_dict(torch.load(checkpoint_path))"
      ],
      "execution_count": null,
      "outputs": [
        {
          "output_type": "execute_result",
          "data": {
            "text/plain": [
              "<All keys matched successfully>"
            ]
          },
          "metadata": {
            "tags": []
          },
          "execution_count": 179
        }
      ]
    },
    {
      "cell_type": "markdown",
      "metadata": {
        "id": "KnUcma9OAPn2"
      },
      "source": [
        "Then, repeat your code from Q2(d), for `train_data[10].title`\n",
        "with temperature settings 0.7, 0.9, and 1.5.\n",
        "Explain why we generally don't want the temperature setting to\n",
        "be too **small**."
      ]
    },
    {
      "cell_type": "code",
      "metadata": {
        "id": "ZHdBcZzxAPn3",
        "outputId": "da1d48da-4797-419c-c40c-62c6f1cae43d",
        "colab": {
          "base_uri": "https://localhost:8080/",
          "height": 86
        }
      },
      "source": [
        "# Include the generated sequences and explanation in your PDF report.\n",
        "\n",
        "headline = train_data[10].title\n",
        "input_seq = torch.Tensor([vocab.stoi[w] for w in headline]).unsqueeze(0).long()\n",
        "\n",
        "out, last_hidden = model.encoder_rnn(model.embed(input_seq))\n",
        "\n",
        "print('Actual:', ' '.join(headline))\n",
        "\n",
        "for temp in [0.7, 0.9, 1.5]:\n",
        "  print(f'\\tTemperature {temp}:', ' '.join(sample_sequence(model, last_hidden, temperature=temp)))\n",
        "\n",
        "# too low a temperature overfits to popular words, such as die, win and presidential"
      ],
      "execution_count": null,
      "outputs": [
        {
          "output_type": "stream",
          "text": [
            "Actual: <bos> wall street rises , limps across the finish line of a turbulent year <eos>\n",
            "\tTemperature 0.7: wall street rises , hut protesters kvitova left after gains feared : year\n",
            "\tTemperature 0.9: wall street rises , limps die win at of sciences <pad> presidential amid\n",
            "\tTemperature 1.5: wall street rises , mining form kate sells <pad> after over election quarter\n"
          ],
          "name": "stdout"
        }
      ]
    },
    {
      "cell_type": "markdown",
      "metadata": {
        "id": "rSfYE0hpAPoC"
      },
      "source": [
        "## Question 4\n",
        "\n",
        "In parts 2-3, we've explored the decoder portion of the autoencoder. In this section,\n",
        "let's explore the **encoder**. In particular, the encoder RNN gives us \n",
        "embeddings of news headlines!\n",
        "\n",
        "First, let's load the **validation** data set:"
      ]
    },
    {
      "cell_type": "code",
      "metadata": {
        "id": "pnL1jsVDAPoD"
      },
      "source": [
        "valid_data = torchtext.data.TabularDataset(\n",
        "    path=valid_path,                # data file path\n",
        "    format=\"tsv\",                   # fields are separated by a tab\n",
        "    fields=[('title', text_field)]) # list of fields (we have only one)"
      ],
      "execution_count": null,
      "outputs": []
    },
    {
      "cell_type": "markdown",
      "metadata": {
        "id": "eq_7Bq4QAPoJ"
      },
      "source": [
        "### Part (a) -- 2 pt\n",
        "\n",
        "Compute the embeddings of every item in the validation set. Then, store the\n",
        "result in a single PyTorch tensor of shape `[19046, 128]`, since there are\n",
        "19,046 headlines in the validation set."
      ]
    },
    {
      "cell_type": "code",
      "metadata": {
        "id": "aqq_ce9GAPoK",
        "outputId": "bdafdc4e-976c-4736-ec84-10f9d749f079",
        "colab": {
          "base_uri": "https://localhost:8080/",
          "height": 34
        }
      },
      "source": [
        "# Write your code here\n",
        "# Show that your resulting PyTorch tensor has shape `[19046, 128]`\n",
        "\n",
        "valid_data_emb = []\n",
        "for x in valid_data:\n",
        "  input_seq = torch.Tensor([vocab.stoi[w] for w in x.title]).unsqueeze(0).long()\n",
        "  valid_data_emb.append(model.encode(input_seq).reshape(-1))\n",
        "\n",
        "valid_data_emb = torch.Tensor(torch.stack(valid_data_emb)).long()\n",
        "print(valid_data_emb.shape)"
      ],
      "execution_count": null,
      "outputs": [
        {
          "output_type": "stream",
          "text": [
            "torch.Size([19046, 128])\n"
          ],
          "name": "stdout"
        }
      ]
    },
    {
      "cell_type": "markdown",
      "metadata": {
        "id": "1MbsCWm3APoO"
      },
      "source": [
        "### Part (b) -- 2 pt\n",
        "\n",
        "Find the 5 closest headlines to the headline `valid_data[13]`. Use the\n",
        "cosine similarity to determine closeness. (Hint: You can use code from Project 2)"
      ]
    },
    {
      "cell_type": "code",
      "metadata": {
        "id": "F3ryo4NkAPoO",
        "outputId": "8f359ec2-af37-4ec8-a71d-050c84d4c5d2",
        "colab": {
          "base_uri": "https://localhost:8080/",
          "height": 121
        }
      },
      "source": [
        "i = 13\n",
        "\n",
        "headline = valid_data[i].title\n",
        "\n",
        "''' it seems that all the norms are 0 or 1 anyway'''\n",
        "norms = np.linalg.norm(valid_data_emb, axis=1)\n",
        "valid_data_emb_norm = (valid_data_emb.T / norms).T\n",
        "similarities = np.matmul(valid_data_emb, valid_data_emb.T)\n",
        "\n",
        "sorted_embedded = sorted(enumerate(similarities[i]), key = lambda e: e[1], reverse = True)\n",
        "sorted_embedded = list(filter(lambda x: not np.isnan(x[1]), sorted_embedded))\n",
        "# a lot of zero norms, which create nan values\n",
        "\n",
        "print('Original:', headline)\n",
        "for i in range(5):\n",
        "  index, x = sorted_embedded[i]\n",
        "  print(f'\\t{i+1}:', valid_data[index].title)\n",
        "\n"
      ],
      "execution_count": null,
      "outputs": [
        {
          "output_type": "stream",
          "text": [
            "Original: ['<bos>', 'asia', 'takes', 'heart', 'from', 'new', 'year', 'gains', 'in', 'u.s.', 'stock', 'futures', '<eos>']\n",
            "\t1: ['<bos>', 'n.korea', \"'s\", 'kim', 'says', 'new', 'path', 'inevitable', 'if', 'u.s.', 'demands', 'unilateral', 'action', '<eos>']\n",
            "\t2: ['<bos>', 'indonesia', 'landslides', 'kill', 'at', 'least', 'two', ',', 'leave', 'dozens', 'missing', '<eos>']\n",
            "\t3: ['<bos>', 'afghanistan', \"'s\", 'neighbors', 'fear', 'refugee', 'crisis', 'if', 'u.s.', 'pulls', 'out', '<eos>']\n",
            "\t4: ['<bos>', 'former', 'israeli', 'foreign', 'minister', 'livni', 'left', 'out', 'in', 'political', 'cold', '<eos>']\n",
            "\t5: ['<bos>', 'rbi', 'governor', 'wanted', 'to', 'step', 'down', 'months', 'before', 'resignation', ':', 'modi', '<eos>']\n"
          ],
          "name": "stdout"
        }
      ]
    },
    {
      "cell_type": "markdown",
      "metadata": {
        "id": "n68d4DhDAPoQ"
      },
      "source": [
        "### Part (c) -- 2 pt\n",
        "\n",
        "Find the 5 closest headlines to another headline of your choice."
      ]
    },
    {
      "cell_type": "code",
      "metadata": {
        "id": "bSab7C_1APoR",
        "outputId": "f487a12e-8844-46fa-faa0-7117361e861f",
        "colab": {
          "base_uri": "https://localhost:8080/",
          "height": 121
        }
      },
      "source": [
        "# Write your code here. \n",
        "# Make sure to include the original headline and the 5 closest headlines.\n",
        "\n",
        "i = 69\n",
        "\n",
        "headline = valid_data[i].title\n",
        "\n",
        "sorted_embedded = sorted(enumerate(similarities[i]), key = lambda e: e[1], reverse = True)\n",
        "sorted_embedded = list(filter(lambda x: not np.isnan(x[1]), sorted_embedded))\n",
        "\n",
        "print('Original:', headline)\n",
        "for i in range(5):\n",
        "  index, x = sorted_embedded[i]\n",
        "  print(f'\\t{i+1}:', valid_data[index].title)\n"
      ],
      "execution_count": null,
      "outputs": [
        {
          "output_type": "stream",
          "text": [
            "Original: ['<bos>', 'pence', 'administers', 'oath', 'to', 'new', 'and', 'reelected', 'senators', '<eos>']\n",
            "\t1: ['<bos>', 'n.korea', \"'s\", 'kim', 'says', 'new', 'path', 'inevitable', 'if', 'u.s.', 'demands', 'unilateral', 'action', '<eos>']\n",
            "\t2: ['<bos>', 'indonesia', 'landslides', 'kill', 'at', 'least', 'two', ',', 'leave', 'dozens', 'missing', '<eos>']\n",
            "\t3: ['<bos>', 'cricket-nz', 'fast', 'bowler', 'jamieson', 'takes', 'third-best', 'figures', 'in', 't20', '<eos>']\n",
            "\t4: ['<bos>', 'a-league', 'standings', '<eos>']\n",
            "\t5: ['<bos>', 'afghanistan', \"'s\", 'neighbors', 'fear', 'refugee', 'crisis', 'if', 'u.s.', 'pulls', 'out', '<eos>']\n"
          ],
          "name": "stdout"
        }
      ]
    },
    {
      "cell_type": "markdown",
      "metadata": {
        "id": "Pbm6WQtoAPoT"
      },
      "source": [
        "### Part (d) -- 4 pts\n",
        "\n",
        "Choose two headlines from the validation set, and find their embeddings.\n",
        "We will **interpolate** between the two embeddings like we did in\n",
        "https://www.cs.toronto.edu/~lczhang/321/lec/autoencoder_notes.html\n",
        "\n",
        "Find 3 points, equally spaced between the embeddings of your headlines.\n",
        "If we let $e_0$ be the embedding of your first headline and $e_4$ be\n",
        "the embedding of your second headline, your three points should be:\n",
        "\n",
        "\\begin{align*}\n",
        "e_1 &=  0.75 e_0 + 0.25 e_4 \\\\\n",
        "e_2 &=  0.50 e_0 + 0.50 e_4 \\\\\n",
        "e_3 &=  0.25 e_0 + 0.75 e_4 \\\\\n",
        "\\end{align*}\n",
        "\n",
        "Decode each of $e_1$, $e_2$ and $e_3$ five times, with a temperature setting\n",
        "that shows some variation in the generated sequences, while generating sequences\n",
        "that makes sense."
      ]
    },
    {
      "cell_type": "code",
      "metadata": {
        "id": "MDgFNxmMAPoU",
        "outputId": "b410c2da-2825-4491-9ad2-977d54b909dd",
        "colab": {
          "base_uri": "https://localhost:8080/",
          "height": 502
        }
      },
      "source": [
        "# Write your code here. Include your generated sequences.\n",
        "\n",
        "headline1 = valid_data[int(np.random.random()*len(valid_data))].title\n",
        "headline2 = valid_data[int(np.random.random()*len(valid_data))].title\n",
        "\n",
        "\n",
        "x1 = torch.Tensor([vocab.stoi[w] for w in headline1]).unsqueeze(0).long()\n",
        "x2 = torch.Tensor([vocab.stoi[w] for w in headline2]).unsqueeze(0).long()\n",
        "\n",
        "emb1 = model.encode(x1).reshape(-1)\n",
        "emb2 = model.encode(x2).reshape(-1)\n",
        "\n",
        "e1 = (0.75*emb1 + 0.25*emb2).reshape(1,1,128)\n",
        "e2 = (0.5*emb1 + 0.5*emb2).reshape(1,1,128)\n",
        "e3 = (0.25*emb1 + 0.75*emb2).reshape(1,1,128)\n",
        "\n",
        "print('Originals:', '\\n\\t', ' '.join(headline1), '\\n\\t', ' '.join(headline2))\n",
        "\n",
        "for temp in np.linspace(1,3,5):\n",
        "  print(f'\\n\\tTemperature {temp}:')\n",
        "  for i in range(3):\n",
        "    e = [e1,e2,e3][i]\n",
        "    print(f'\\t\\te{i}:', ' '.join(sample_sequence(model, e, temperature = temp)))"
      ],
      "execution_count": null,
      "outputs": [
        {
          "output_type": "stream",
          "text": [
            "Originals: \n",
            "\t <bos> italian prosecutors probe allegations of league oil deal : sources <eos> \n",
            "\t <bos> softbank-backed grab raising $ _num_ million from japanese investors <eos>\n",
            "\n",
            "\tTemperature 1.0:\n",
            "\t\te0: somalia fda tied dead concessions case : wireless fall\n",
            "\t\te1: oklahoma lesson members $ risk civil four rico growing gdp\n",
            "\t\te2: _num_-google department nbcuniversal with of lung on nationals _num_-s.korea\n",
            "\n",
            "\tTemperature 1.5:\n",
            "\t\te0: oklahoma admissions religious join pushback human swap to dec\n",
            "\t\te1: walmart ncaa crisis for clothing on americans asia contract\n",
            "\t\te2: sex ola corporate slaps <unk> doing from overseas <pad>\n",
            "\n",
            "\tTemperature 2.0:\n",
            "\t\te0: samsung subpoenas missing sentence brutal ; campaign support official\n",
            "\t\te1: mercedes-benz factions sues for points contested flights tests time\n",
            "\t\te2: prosecution announce warner lung 's import resigns kerr more\n",
            "\n",
            "\tTemperature 2.5:\n",
            "\t\te0: ashley _num_-roche e-cigarettes rocket broke , press fears _num_ top\n",
            "\t\te1: bias iraq recommends headaches to abuse suspected vs falls\n",
            "\t\te2: therapy famed parking producer in deal tainted congo bigger\n",
            "\n",
            "\tTemperature 3.0:\n",
            "\t\te0: strip who penalty add search weigh sen. first between\n",
            "\t\te1: somalia developer li e-cigarettes weekly train human to highlights firms <pad>\n",
            "\t\te2: bumps preparing stung second responsible years hynix legacy antitrust\n"
          ],
          "name": "stdout"
        }
      ]
    }
  ]
}